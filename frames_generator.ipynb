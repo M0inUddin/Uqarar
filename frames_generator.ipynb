{
 "cells": [
  {
   "cell_type": "code",
   "execution_count": 17,
   "metadata": {},
   "outputs": [],
   "source": [
    "import os\n",
    "import cv2"
   ]
  },
  {
   "cell_type": "code",
   "execution_count": 24,
   "metadata": {},
   "outputs": [],
   "source": [
    "emotion = \"interest\"\n",
    "# Define the directory where the video files are located\n",
    "video_directory = f\"F:\\\\FYP\\\\Dataset\\\\baum1s\\\\acted\\\\{emotion}\"\n",
    "# Define the directory where the frames will be saved\n",
    "frame_directory = f\"F:\\\\FYP\\\\Dataset\\\\baum1s\\\\acted\\\\{emotion}\\\\frames\"\n",
    "# List the files in the current directory\n",
    "files = os.listdir(video_directory)\n",
    "\n",
    "# Create a new folder to save the frames\n",
    "if not os.path.exists(frame_directory):\n",
    "  os.makedirs(frame_directory)\n",
    "\n"
   ]
  },
  {
   "cell_type": "code",
   "execution_count": 25,
   "metadata": {},
   "outputs": [
    {
     "name": "stdout",
     "output_type": "stream",
     "text": [
      "All frames have been saved to the frame directory\n"
     ]
    }
   ],
   "source": [
    "\n",
    "\n",
    "# Loop through all the files in the video directory\n",
    "for file in files:\n",
    "  # Check if the file is a video file\n",
    "  if file.endswith(\".mp4\") or file.endswith(\".avi\"):\n",
    "    # Read the video file\n",
    "    video = cv2.VideoCapture(os.path.join(video_directory, file))\n",
    "\n",
    "    # Check if the video file was opened successfully\n",
    "    if not video.isOpened():\n",
    "      print(\"Could not open the video file\")\n",
    "      continue\n",
    "\n",
    "    # Read the first frame from the video file\n",
    "    success, frame = video.read()\n",
    "\n",
    "    # Define the frame counter\n",
    "    frame_counter = 0\n",
    "\n",
    "    # Loop through all the frames in the video file\n",
    "    while success:\n",
    "      # Save the frame to the frame directory\n",
    "      cv2.imwrite(os.path.join(frame_directory, \"{}_{}.jpg\".format(file,frame_counter)), frame)\n",
    "      frame_counter += 1\n",
    "      # Read the next frame\n",
    "      success, frame = video.read()\n",
    "\n",
    "    # Release the video file\n",
    "    video.release()\n",
    "\n",
    "# Print a message to the console\n",
    "print(\"All frames have been saved to the frame directory\")\n"
   ]
  }
 ],
 "metadata": {
  "kernelspec": {
   "display_name": "Python 3.10.7 64-bit",
   "language": "python",
   "name": "python3"
  },
  "language_info": {
   "codemirror_mode": {
    "name": "ipython",
    "version": 3
   },
   "file_extension": ".py",
   "mimetype": "text/x-python",
   "name": "python",
   "nbconvert_exporter": "python",
   "pygments_lexer": "ipython3",
   "version": "3.10.7"
  },
  "orig_nbformat": 4,
  "vscode": {
   "interpreter": {
    "hash": "877b9b56b9ac32ed84d6125ece5ae2d08ce35bd4ff02cdfe13ad4f8dd6c8a2c2"
   }
  }
 },
 "nbformat": 4,
 "nbformat_minor": 2
}
