{
 "cells": [
  {
   "cell_type": "code",
   "execution_count": 2,
   "metadata": {},
   "outputs": [],
   "source": [
    "population_size = 50\n",
    "max_generations = 100\n",
    "mutation_rate = 0.1\n",
    "credit_hour_limit = 18\n",
    "import random\n"
   ]
  },
  {
   "cell_type": "code",
   "execution_count": 3,
   "metadata": {},
   "outputs": [],
   "source": [
    "class Course:\n",
    "    def __init__(self, code, title, credit_hours, prerequisites=None):\n",
    "        self.code = code\n",
    "        self.title = title\n",
    "        self.credit_hours = int(credit_hours)\n",
    "        self.prerequisites = set() if prerequisites is None else set(prerequisites)"
   ]
  },
  {
   "cell_type": "code",
   "execution_count": 4,
   "metadata": {},
   "outputs": [],
   "source": [
    "curriculum = {\n",
    "    1: {\n",
    "        \"sc1201\": Course(\"sc1201\", \"Applied Physics\", \"3\", \"\"),\n",
    "        \"sc1001\": Course(\"sc1001\", \"Calculus & Analytic Geometry\", \"3\", \"\"),\n",
    "        \"hu1002\": Course(\"hu1002\", \"English Composition & Comprehension\", \"3\", \"\"),\n",
    "        \"cs1501\": Course(\"cs1501\", \"Introduction to Information and Communication Technologies\", \"2\", \"\"),\n",
    "        \"cs1001\": Course(\"cs1001\", \"Programming Fundamentals\", \"4\", \" \")\n",
    "    },\n",
    "    2: {\n",
    "        \"hu1003\": Course(\"hu1003\", \"Communication & Presentation Skills\", \"3\", \"\"),\n",
    "        \"cs1502\": Course(\"cs1502\", \"Digital Logic and Design\", \"4\", \"\"),\n",
    "        \"hu1101\": Course(\"hu1101\", \"Islamic Studies\", \"2\", \"\"),\n",
    "        \"sc1002\": Course(\"sc1002\", \"Multivariate Calculus\", \"2\", \"sc1001\"),\n",
    "        \"cs2301\": Course(\"cs2301\", \"Discrete Structures\", \"2\", \"\"),\n",
    "        \"cs1002\": Course(\"cs1002\", \"Programming Techniques\", \"2\", \"cs1001\")\n",
    "    },\n",
    "    3: {\n",
    "        \"cs2503\": Course(\"cs2503\", \"Computer Organization & Assembly Language\", \"4\", \"\"),\n",
    "        \"cs2003\": Course(\"cs2003\", \"Data Structure and Algorithms\", \"4\", \"cs1001\"),\n",
    "        \"sc2003\": Course(\"sc2003\", \"Differential Equations\", \"3\", \"sc1001\"),\n",
    "        \"hu1102\": Course(\"hu1102\", \"Pakistan Studies\", \"2\", \"\"),\n",
    "        \"cs2004\": Course(\"cs2004\", \"Object Oriented Programming\", \"4\", \"cs1001\")\n",
    "    },\n",
    "    4: {\n",
    "        \"cs2201\": Course(\"cs2201\", \"Introduction to Database Systems\", \"4\", \"cs2003\"),\n",
    "        \"cs2504\": Course(\"cs2504\", \"Operating Systems\", \"4\", \"cs2003\"),\n",
    "        \"sc2004\": Course(\"sc2004\", \"Probability and Statistics\", \"3\", \"\"),\n",
    "        \"cs2101\": Course(\"cs2101\", \"Software Engineering\", \"3\", \"\")\n",
    "    },\n",
    "    5: {\n",
    "        \"cs4303\": Course(\"cs4303\", \"Artificial Intelligence\", \"4\", \"cs2003\"),\n",
    "        \"cs3005\": Course(\"cs3005\", \"Design & Analysis of Algorithms\", \"3\", \"cs2003\"),\n",
    "        \"cs3202\": Course(\"cs3202\", \"Web Engineering\", \"4\", \"cs2003\"),\n",
    "        \"cs3002\": Course(\"cs3002\", \"Computer Networks\", \"3\", \"cs2003\"),\n",
    "        \"cs3003\": Course(\"cs3003\", \"Software Project Management\", \"3\", \"cs2101\")\n",
    "    },\n",
    "    6: {\n",
    "        \"cs3701\": Course(\"cs3701\", \"Computer Graphics\", \"4\", \"cs2004\"),\n",
    "        \"cs4102\": Course(\"cs4102\", \"Software Project-I\", \"4\", \"cs2004\"),\n",
    "        \"cs3702\": Course(\"cs3702\", \"Theory of Automata\", \"3\", \"cs2004\"),\n",
    "        \"cs4001\": Course(\"cs4001\", \"Digital Image Processing\", \"3\", \"cs2004\"),\n",
    "        \"cs4602\": Course(\"cs4602\", \"Data Warehousing & Data Mining\", \"3\", \"cs2201\")\n",
    "    },\n",
    "    7: {\n",
    "        \"cs4701\": Course(\"cs4701\", \"Introduction to Machine Learning\", \"3\", \"CS3005\"),\n",
    "        \"cs4802\": Course(\"cs4802\", \"Software Project-II\", \"3\", \"cs4102\"),\n",
    "        \"cs4201\": Course(\"cs4201\", \"Advanced Database Systems\", \"3\", \"cs2201\"),\n",
    "        \"cs4302\": Course(\"cs4302\", \"Software Quality Assurance\", \"3\", \"cs3003\"),\n",
    "        \"cs4503\": Course(\"cs4503\", \"Compiler Construction\", \"3\", \"cs3702\"),\n",
    "        \"cs4004\": Course(\"cs4004\", \"Parallel Computing\", \"3\", \"cs3002\")\n",
    "    },\n",
    "    8: {\n",
    "        \"cs4801\": Course(\"cs4801\", \"Final Year Project\", \"4\", \"\"),\n",
    "        \"cs4902\": Course(\"cs4902\", \"Software Project-III\", \"4\", \"cs4802\"),\n",
    "        \"cs4502\": Course(\"cs4502\", \"Advanced Operating Systems\", \"4\", \"cs2504\"),\n",
    "        \"cs4603\": Course(\"cs4603\", \"Human Computer Interaction\", \"3\", \"\"),\n",
    "        \"cs4005\": Course(\"cs4005\", \"Wireless Networks\", \"3\", \"cs3002\")\n",
    "    }\n",
    "}"
   ]
  },
  {
   "cell_type": "code",
   "execution_count": 5,
   "metadata": {},
   "outputs": [],
   "source": [
    "def crossover(parent1, parent2):\n",
    "    # Select a random semester for crossover\n",
    "    crossover_point = random.randint(1, min(len(parent1), len(parent2)))\n",
    "\n",
    "    # Perform crossover\n",
    "    offspring1 = {semester: parent1[semester] if semester < crossover_point else parent2[semester] for semester in parent1}\n",
    "    offspring2 = {semester: parent2[semester] if semester < crossover_point else parent1[semester] for semester in parent2}\n",
    "\n",
    "    return offspring1, offspring2\n"
   ]
  },
  {
   "cell_type": "code",
   "execution_count": 6,
   "metadata": {},
   "outputs": [],
   "source": [
    "def mutate(chromosome):\n",
    "    mutated_chromosome = chromosome.copy()\n",
    "\n",
    "    # Select a random semester for mutation\n",
    "    semester = random.choice(list(chromosome.keys()))\n",
    "\n",
    "    # Select a random course in the semester for mutation\n",
    "    courses = chromosome[semester]\n",
    "    if courses:\n",
    "        course_index = random.randint(0, len(courses) - 1)\n",
    "        course = courses[course_index]\n",
    "\n",
    "        # Replace the course with a random course from the curriculum\n",
    "        new_course = random.choice(list(curriculum[semester].values()))\n",
    "        mutated_chromosome[semester][course_index] = new_course\n",
    "\n",
    "    return mutated_chromosome\n"
   ]
  },
  {
   "cell_type": "code",
   "execution_count": 7,
   "metadata": {},
   "outputs": [],
   "source": [
    "def generate_chromosome(current_semester, failed_courses):\n",
    "    chromosome = {}\n",
    "    total_credit_hours = 0\n",
    "\n",
    "    for semester in range(1, current_semester + 1):\n",
    "        chromosome[semester] = []\n",
    "\n",
    "        # Add courses from the curriculum to the chromosome\n",
    "        for course_code, course in curriculum[semester].items():\n",
    "            if course_code not in failed_courses:\n",
    "                # Check if prerequisites are satisfied\n",
    "                if course.prerequisites.issubset(chromosome[semester]):\n",
    "                    # Check if credit hour limit is not exceeded\n",
    "                    if total_credit_hours + int(course.credit_hours) <= credit_hour_limit:\n",
    "                        chromosome[semester].append(course_code)\n",
    "                        total_credit_hours += int(course.credit_hours)\n",
    "\n",
    "    return chromosome\n"
   ]
  },
  {
   "cell_type": "code",
   "execution_count": 8,
   "metadata": {},
   "outputs": [],
   "source": [
    "def calculate_fitness(chromosome, failed_courses):\n",
    "    fitness = 0\n",
    "\n",
    "    for semester, courses in chromosome.items():\n",
    "        for course in courses:\n",
    "            if course in failed_courses:\n",
    "                fitness += 1\n",
    "\n",
    "    return fitness\n"
   ]
  },
  {
   "cell_type": "code",
   "execution_count": 9,
   "metadata": {},
   "outputs": [],
   "source": [
    "def genetic_algorithm(current_semester, failed_courses):\n",
    "    population = []\n",
    "\n",
    "    # Generate initial population\n",
    "    for _ in range(population_size):\n",
    "        chromosome = generate_chromosome(current_semester, failed_courses)\n",
    "        population.append(chromosome)\n",
    "\n",
    "    for generation in range(max_generations):\n",
    "        # Evaluate fitness of each chromosome\n",
    "        fitness_scores = [calculate_fitness(chromosome, failed_courses) for chromosome in population]\n",
    "\n",
    "        # Select parents for next generation\n",
    "        parents = random.choices(population, weights=[1 / (fitness + 1) for fitness in fitness_scores], k=2)\n",
    "\n",
    "        # Perform crossover\n",
    "        offspring1, offspring2 = crossover(parents[0], parents[1])\n",
    "\n",
    "        # Perform mutation on each offspring\n",
    "        offspring1 = mutate(offspring1)\n",
    "        offspring2 = mutate(offspring2)\n",
    "\n",
    "        # Replace old population with new generation\n",
    "        population = [offspring1, offspring2] + random.choices(population[2:], k=population_size - 2)\n",
    "\n",
    "    # Select the best chromosome from the final population\n",
    "    best_chromosome = min(population, key=lambda chromosome: calculate_fitness(chromosome, failed_courses))\n",
    "    return best_chromosome\n"
   ]
  },
  {
   "cell_type": "code",
   "execution_count": 11,
   "metadata": {},
   "outputs": [
    {
     "name": "stdout",
     "output_type": "stream",
     "text": [
      "['hu1002', 'cs1001', 'sc1001', 'sc1201', 'sc1002', 'hu1101']\n"
     ]
    }
   ],
   "source": [
    "current_semester = 3\n",
    "failed_courses = [\"cs2003\", \"cs2503\", \"sc1002\"]\n",
    "\n",
    "best_chromosome = genetic_algorithm(current_semester, failed_courses)\n",
    "course_codes = [course.code for semester_courses in best_chromosome.values() for course in semester_courses]\n",
    "print(course_codes)\n",
    "\n"
   ]
  }
 ],
 "metadata": {
  "kernelspec": {
   "display_name": "Python 3",
   "language": "python",
   "name": "python3"
  },
  "language_info": {
   "codemirror_mode": {
    "name": "ipython",
    "version": 3
   },
   "file_extension": ".py",
   "mimetype": "text/x-python",
   "name": "python",
   "nbconvert_exporter": "python",
   "pygments_lexer": "ipython3",
   "version": "3.11.1"
  },
  "orig_nbformat": 4
 },
 "nbformat": 4,
 "nbformat_minor": 2
}
