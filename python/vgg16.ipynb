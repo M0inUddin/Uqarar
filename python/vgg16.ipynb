{
 "cells": [
  {
   "cell_type": "code",
   "execution_count": 29,
   "metadata": {},
   "outputs": [],
   "source": [
    "import os\n",
    "import cv2\n",
    "\n",
    "# Define the emotions in the dataset\n",
    "emo_dict = [\"happiness\", \"anger\", \"sadness\", \"disgust\", \"fear\", \"interest\"]\n",
    "\n",
    "# Define the path to the dataset directory\n",
    "dataset_path = \"F:\\\\FYP\\\\Dataset\\\\baum1s\\\\acted\"\n",
    "frame_directory = \"F:\\\\FYP\\\\Dataset\\\\baum1s\\\\frames\"\n",
    "# Initialize lists to store the video data and labels\n",
    "\n",
    "if not os.path.exists(frame_directory):\n",
    "  os.makedirs(frame_directory)\n",
    "\n",
    "# Loop through each subdirectory that represents an emotion class\n",
    "for emotion_dir in os.listdir(dataset_path):\n",
    "    # Get the label from the directory name (e.g. \"happiness\")\n",
    "    if emotion_dir in emo_dict:\n",
    "        label = emotion_dir\n",
    "    else:\n",
    "        continue\n",
    "    # Loop through each video file in the subdirectory\n",
    "    for file in os.listdir(os.path.join(dataset_path, emotion_dir)):\n",
    "        # Read video file as numpy array\n",
    "        video = cv2.VideoCapture(os.path.join(dataset_path, emotion_dir, file))\n",
    "        frames = []\n",
    "        frame_count = 0\n",
    "        while video.isOpened():\n",
    "            ret, frame = video.read()\n",
    "            if ret:\n",
    "                # Convert image to RGB format\n",
    "                frame = cv2.resize(frame, (224, 224))\n",
    "                frame = cv2.cvtColor(frame, cv2.COLOR_BGR2RGB)\n",
    "                frames.append(frame)\n",
    "                \n",
    "                # Save frame as an image file\n",
    "                frame_filename = os.path.join(frame_directory, label, f\"{file}_{frame_count}.jpg\")\n",
    "                os.makedirs(os.path.dirname(frame_filename), exist_ok=True)\n",
    "                cv2.imwrite(frame_filename, frame)\n",
    "                \n",
    "                frame_count += 1\n",
    "            else:\n",
    "                break\n",
    "        video.release()\n"
   ]
  },
  {
   "cell_type": "code",
   "execution_count": 1,
   "metadata": {},
   "outputs": [],
   "source": [
    "import os\n",
    "import cv2\n",
    "import numpy as np\n",
    "\n",
    "# Define the emotions in the dataset\n",
    "emo_dict = [\"happiness\", \"anger\", \"sadness\", \"disgust\", \"fear\", \"interest\"]\n",
    "\n",
    "# Define the path to the frames directory\n",
    "frame_path = \"F:\\\\FYP\\\\Dataset\\\\baum1s\\\\frames\"\n",
    "\n",
    "# Initialize lists to store the frame data and labels\n",
    "frame_data = []\n",
    "frame_labels = []\n",
    "\n",
    "# Loop through each subdirectory that represents an emotion class\n",
    "for emotion_dir in os.listdir(frame_path):\n",
    "    if emotion_dir in emo_dict:\n",
    "        label = emotion_dir\n",
    "    else:\n",
    "        continue\n",
    "    # Loop through each image file in the subdirectory\n",
    "    for file in os.listdir(os.path.join(frame_path, emotion_dir)):\n",
    "        # Read image file as numpy array\n",
    "        image = cv2.imread(os.path.join(frame_path, emotion_dir, file))\n",
    "        # Convert image to RGB format\n",
    "        image = cv2.cvtColor(image, cv2.COLOR_BGR2RGB)\n",
    "        # Append image data and label to lists\n",
    "        frame_data.append(image)\n",
    "        frame_labels.append(label)"
   ]
  },
  {
   "cell_type": "code",
   "execution_count": 2,
   "metadata": {},
   "outputs": [],
   "source": [
    "\n",
    "# Convert lists to numpy arrays\n",
    "frame_data = np.array(frame_data)\n",
    "frame_labels = np.array(frame_labels)"
   ]
  },
  {
   "cell_type": "code",
   "execution_count": 3,
   "metadata": {},
   "outputs": [],
   "source": [
    "import pandas as pd\n",
    "\n",
    "df = pd.DataFrame(frame_labels, columns=['Label'])\n",
    "df['Label'].replace({'happiness': 0, 'anger': 1, 'sadness': 2, 'disgust': 3, 'fear': 4, 'interest': 5}, inplace=True)\n",
    "\n",
    "frame_labels = df['Label'].to_list()\n"
   ]
  },
  {
   "cell_type": "code",
   "execution_count": 4,
   "metadata": {},
   "outputs": [
    {
     "name": "stdout",
     "output_type": "stream",
     "text": [
      "(23823, 224, 224, 3)\n",
      "23823\n",
      "[1, 1, 1, 1, 1, 1, 1, 1, 1, 1]\n"
     ]
    }
   ],
   "source": [
    "print(frame_data.shape)\n",
    "print(len(frame_labels))\n",
    "print(frame_labels[:10])"
   ]
  },
  {
   "cell_type": "code",
   "execution_count": 5,
   "metadata": {},
   "outputs": [],
   "source": [
    "from keras.models import Model\n",
    "from keras.layers import Input, Dense, Dropout, LSTM, Flatten\n",
    "from keras.layers import TimeDistributed\n",
    "from keras.utils import to_categorical\n",
    "from keras.applications.vgg16 import VGG16"
   ]
  },
  {
   "cell_type": "code",
   "execution_count": 6,
   "metadata": {},
   "outputs": [
    {
     "name": "stdout",
     "output_type": "stream",
     "text": [
      "Epoch 1/15\n",
      "745/745 [==============================] - 4470s 6s/step - loss: 0.9769 - accuracy: 0.6384\n",
      "Epoch 2/15\n",
      "745/745 [==============================] - 4559s 6s/step - loss: 0.5100 - accuracy: 0.8198\n",
      "Epoch 3/15\n",
      "745/745 [==============================] - 4832s 6s/step - loss: 0.3809 - accuracy: 0.8675\n",
      "Epoch 4/15\n",
      "745/745 [==============================] - 4944s 7s/step - loss: 0.3186 - accuracy: 0.8886\n",
      "Epoch 5/15\n",
      "745/745 [==============================] - 4757s 6s/step - loss: 0.3078 - accuracy: 0.8938\n",
      "Epoch 6/15\n",
      "745/745 [==============================] - 4609s 6s/step - loss: 0.2231 - accuracy: 0.9233\n",
      "Epoch 7/15\n",
      "745/745 [==============================] - 4620s 6s/step - loss: 0.2132 - accuracy: 0.9240\n",
      "Epoch 8/15\n",
      "745/745 [==============================] - 4571s 6s/step - loss: 0.1886 - accuracy: 0.9365\n",
      "Epoch 9/15\n",
      "745/745 [==============================] - 4561s 6s/step - loss: 0.1736 - accuracy: 0.9411\n",
      "Epoch 10/15\n",
      "745/745 [==============================] - 4568s 6s/step - loss: 0.1701 - accuracy: 0.9412\n",
      "Epoch 11/15\n",
      "745/745 [==============================] - 4567s 6s/step - loss: 0.1414 - accuracy: 0.9524\n",
      "Epoch 12/15\n",
      "745/745 [==============================] - 4637s 6s/step - loss: 0.1376 - accuracy: 0.9527\n",
      "Epoch 13/15\n",
      "745/745 [==============================] - 4646s 6s/step - loss: 0.1402 - accuracy: 0.9532\n",
      "Epoch 14/15\n",
      "745/745 [==============================] - 4576s 6s/step - loss: 0.1394 - accuracy: 0.9526\n",
      "Epoch 15/15\n",
      "745/745 [==============================] - 4545s 6s/step - loss: 0.1200 - accuracy: 0.9589\n"
     ]
    },
    {
     "data": {
      "text/plain": [
       "<keras.callbacks.History at 0x1dbd8400890>"
      ]
     },
     "execution_count": 6,
     "metadata": {},
     "output_type": "execute_result"
    }
   ],
   "source": [
    "# Convert labels to one-hot encoded format\n",
    "labels = to_categorical(frame_labels, num_classes=len(emo_dict))\n",
    "\n",
    "# Load pre-trained VGG16 model\n",
    "vgg16_model = VGG16(weights=\"imagenet\", include_top=False, input_shape=(224, 224, 3))\n",
    "\n",
    "# Freeze the weights of the pre-trained layers\n",
    "for layer in vgg16_model.layers:\n",
    "    layer.trainable = False\n",
    "\n",
    "# Add custom classification layers on top of the pre-trained layers\n",
    "x = vgg16_model.output\n",
    "x = TimeDistributed(Flatten())(x)\n",
    "x = LSTM(256, return_sequences=False)(x)\n",
    "x = Dense(256, activation=\"relu\")(x)\n",
    "x = Dropout(0.5)(x)\n",
    "x = Dense(len(emo_dict), activation=\"softmax\")(x)\n",
    "\n",
    "# Create a new model with the pre-trained layers and custom layers\n",
    "model = Model(inputs=vgg16_model.input, outputs=x)\n",
    "\n",
    "# Compile the model with categorical crossentropy loss and Adam optimizer\n",
    "model.compile(loss=\"categorical_crossentropy\", optimizer=\"adam\", metrics=[\"accuracy\"])\n",
    "\n",
    "# Train the model on the dataset for 15 epochs with batch size of 32\n",
    "model.fit(frame_data, labels, epochs=15, batch_size=32)\n"
   ]
  },
  {
   "cell_type": "code",
   "execution_count": 7,
   "metadata": {},
   "outputs": [],
   "source": [
    "model.save(\"F:\\\\FYP\\\\Dataset\\\\train\\\\vgg16.h5\")"
   ]
  },
  {
   "cell_type": "code",
   "execution_count": 8,
   "metadata": {},
   "outputs": [
    {
     "name": "stdout",
     "output_type": "stream",
     "text": [
      "Model: \"model\"\n",
      "_________________________________________________________________\n",
      " Layer (type)                Output Shape              Param #   \n",
      "=================================================================\n",
      " input_1 (InputLayer)        [(None, 224, 224, 3)]     0         \n",
      "                                                                 \n",
      " block1_conv1 (Conv2D)       (None, 224, 224, 64)      1792      \n",
      "                                                                 \n",
      " block1_conv2 (Conv2D)       (None, 224, 224, 64)      36928     \n",
      "                                                                 \n",
      " block1_pool (MaxPooling2D)  (None, 112, 112, 64)      0         \n",
      "                                                                 \n",
      " block2_conv1 (Conv2D)       (None, 112, 112, 128)     73856     \n",
      "                                                                 \n",
      " block2_conv2 (Conv2D)       (None, 112, 112, 128)     147584    \n",
      "                                                                 \n",
      " block2_pool (MaxPooling2D)  (None, 56, 56, 128)       0         \n",
      "                                                                 \n",
      " block3_conv1 (Conv2D)       (None, 56, 56, 256)       295168    \n",
      "                                                                 \n",
      " block3_conv2 (Conv2D)       (None, 56, 56, 256)       590080    \n",
      "                                                                 \n",
      " block3_conv3 (Conv2D)       (None, 56, 56, 256)       590080    \n",
      "                                                                 \n",
      " block3_pool (MaxPooling2D)  (None, 28, 28, 256)       0         \n",
      "                                                                 \n",
      " block4_conv1 (Conv2D)       (None, 28, 28, 512)       1180160   \n",
      "                                                                 \n",
      " block4_conv2 (Conv2D)       (None, 28, 28, 512)       2359808   \n",
      "                                                                 \n",
      " block4_conv3 (Conv2D)       (None, 28, 28, 512)       2359808   \n",
      "                                                                 \n",
      " block4_pool (MaxPooling2D)  (None, 14, 14, 512)       0         \n",
      "                                                                 \n",
      " block5_conv1 (Conv2D)       (None, 14, 14, 512)       2359808   \n",
      "                                                                 \n",
      " block5_conv2 (Conv2D)       (None, 14, 14, 512)       2359808   \n",
      "                                                                 \n",
      " block5_conv3 (Conv2D)       (None, 14, 14, 512)       2359808   \n",
      "                                                                 \n",
      " block5_pool (MaxPooling2D)  (None, 7, 7, 512)         0         \n",
      "                                                                 \n",
      " time_distributed (TimeDistr  (None, 7, 3584)          0         \n",
      " ibuted)                                                         \n",
      "                                                                 \n",
      " lstm (LSTM)                 (None, 256)               3933184   \n",
      "                                                                 \n",
      " dense (Dense)               (None, 256)               65792     \n",
      "                                                                 \n",
      " dropout (Dropout)           (None, 256)               0         \n",
      "                                                                 \n",
      " dense_1 (Dense)             (None, 6)                 1542      \n",
      "                                                                 \n",
      "=================================================================\n",
      "Total params: 18,715,206\n",
      "Trainable params: 4,000,518\n",
      "Non-trainable params: 14,714,688\n",
      "_________________________________________________________________\n"
     ]
    }
   ],
   "source": [
    "model.summary()"
   ]
  },
  {
   "cell_type": "code",
   "execution_count": 8,
   "metadata": {},
   "outputs": [],
   "source": [
    "import tensorflow as tf"
   ]
  },
  {
   "cell_type": "code",
   "execution_count": 11,
   "metadata": {},
   "outputs": [
    {
     "name": "stdout",
     "output_type": "stream",
     "text": [
      "Model: \"model\"\n",
      "_________________________________________________________________\n",
      " Layer (type)                Output Shape              Param #   \n",
      "=================================================================\n",
      " input_1 (InputLayer)        [(None, 224, 224, 3)]     0         \n",
      "                                                                 \n",
      " block1_conv1 (Conv2D)       (None, 224, 224, 64)      1792      \n",
      "                                                                 \n",
      " block1_conv2 (Conv2D)       (None, 224, 224, 64)      36928     \n",
      "                                                                 \n",
      " block1_pool (MaxPooling2D)  (None, 112, 112, 64)      0         \n",
      "                                                                 \n",
      " block2_conv1 (Conv2D)       (None, 112, 112, 128)     73856     \n",
      "                                                                 \n",
      " block2_conv2 (Conv2D)       (None, 112, 112, 128)     147584    \n",
      "                                                                 \n",
      " block2_pool (MaxPooling2D)  (None, 56, 56, 128)       0         \n",
      "                                                                 \n",
      " block3_conv1 (Conv2D)       (None, 56, 56, 256)       295168    \n",
      "                                                                 \n",
      " block3_conv2 (Conv2D)       (None, 56, 56, 256)       590080    \n",
      "                                                                 \n",
      " block3_conv3 (Conv2D)       (None, 56, 56, 256)       590080    \n",
      "                                                                 \n",
      " block3_pool (MaxPooling2D)  (None, 28, 28, 256)       0         \n",
      "                                                                 \n",
      " block4_conv1 (Conv2D)       (None, 28, 28, 512)       1180160   \n",
      "                                                                 \n",
      " block4_conv2 (Conv2D)       (None, 28, 28, 512)       2359808   \n",
      "                                                                 \n",
      " block4_conv3 (Conv2D)       (None, 28, 28, 512)       2359808   \n",
      "                                                                 \n",
      " block4_pool (MaxPooling2D)  (None, 14, 14, 512)       0         \n",
      "                                                                 \n",
      " block5_conv1 (Conv2D)       (None, 14, 14, 512)       2359808   \n",
      "                                                                 \n",
      " block5_conv2 (Conv2D)       (None, 14, 14, 512)       2359808   \n",
      "                                                                 \n",
      " block5_conv3 (Conv2D)       (None, 14, 14, 512)       2359808   \n",
      "                                                                 \n",
      " block5_pool (MaxPooling2D)  (None, 7, 7, 512)         0         \n",
      "                                                                 \n",
      " time_distributed (TimeDistr  (None, 7, 3584)          0         \n",
      " ibuted)                                                         \n",
      "                                                                 \n",
      " lstm (LSTM)                 (None, 256)               3933184   \n",
      "                                                                 \n",
      " dense (Dense)               (None, 256)               65792     \n",
      "                                                                 \n",
      " dropout (Dropout)           (None, 256)               0         \n",
      "                                                                 \n",
      " dense_1 (Dense)             (None, 6)                 1542      \n",
      "                                                                 \n",
      "=================================================================\n",
      "Total params: 18,715,206\n",
      "Trainable params: 4,000,518\n",
      "Non-trainable params: 14,714,688\n",
      "_________________________________________________________________\n"
     ]
    }
   ],
   "source": [
    "# Load the .h5 file as a Keras model\n",
    "model = tf.keras.models.load_model('F:\\\\FYP\\\\Dataset\\\\train\\\\vgg16.h5')\n",
    "model.summary()"
   ]
  },
  {
   "cell_type": "code",
   "execution_count": 18,
   "metadata": {},
   "outputs": [],
   "source": [
    "# Convert the model\n",
    "converter = tf.lite.TFLiteConverter.from_saved_model('F:\\\\FYP\\\\Dataset\\\\train\\\\') # path to the SavedModel directory\n",
    "converter.target_spec.supported_ops = [tf.lite.OpsSet.TFLITE_BUILTINS, tf.lite.OpsSet.SELECT_TF_OPS]\n",
    "converter._experimental_lower_tensor_list_ops = False\n",
    "tflite_model = converter.convert()\n",
    "\n",
    "# Save the model.\n",
    "with open('model.tflite', 'wb') as f:\n",
    "  f.write(tflite_model)"
   ]
  },
  {
   "cell_type": "code",
   "execution_count": 19,
   "metadata": {},
   "outputs": [
    {
     "name": "stderr",
     "output_type": "stream",
     "text": [
      "WARNING:absl:Found untraced functions such as _jit_compiled_convolution_op, _jit_compiled_convolution_op, _jit_compiled_convolution_op, _jit_compiled_convolution_op, _jit_compiled_convolution_op while saving (showing 5 of 16). These functions will not be directly callable after loading.\n"
     ]
    },
    {
     "name": "stdout",
     "output_type": "stream",
     "text": [
      "INFO:tensorflow:Assets written to: C:\\Users\\Moin\\AppData\\Local\\Temp\\tmp8fbsd_5q\\assets\n"
     ]
    },
    {
     "name": "stderr",
     "output_type": "stream",
     "text": [
      "INFO:tensorflow:Assets written to: C:\\Users\\Moin\\AppData\\Local\\Temp\\tmp8fbsd_5q\\assets\n",
      "WARNING:absl:Found untraced functions such as _jit_compiled_convolution_op, _jit_compiled_convolution_op, _jit_compiled_convolution_op, _jit_compiled_convolution_op, _jit_compiled_convolution_op while saving (showing 5 of 16). These functions will not be directly callable after loading.\n"
     ]
    },
    {
     "name": "stdout",
     "output_type": "stream",
     "text": [
      "INFO:tensorflow:Assets written to: C:\\Users\\Moin\\AppData\\Local\\Temp\\tmpt_sct168\\assets\n"
     ]
    },
    {
     "name": "stderr",
     "output_type": "stream",
     "text": [
      "INFO:tensorflow:Assets written to: C:\\Users\\Moin\\AppData\\Local\\Temp\\tmpt_sct168\\assets\n"
     ]
    }
   ],
   "source": [
    "# Convert the model to a .tflite file\n",
    "converter = tf.lite.TFLiteConverter.from_keras_model(model)\n",
    "converter.target_spec.supported_ops = [tf.lite.OpsSet.TFLITE_BUILTINS, tf.lite.OpsSet.SELECT_TF_OPS]\n",
    "converter._experimental_lower_tensor_list_ops = False\n",
    "tflite_model = converter.convert()\n",
    "tflite_model = converter.convert()\n",
    "\n",
    "# Save the .tflite file\n",
    "with open('F:\\\\FYP\\\\Dataset\\\\train\\\\model.tflite', 'wb') as f:\n",
    "  f.write(tflite_model)"
   ]
  }
 ],
 "metadata": {
  "kernelspec": {
   "display_name": "Python 3",
   "language": "python",
   "name": "python3"
  },
  "language_info": {
   "codemirror_mode": {
    "name": "ipython",
    "version": 3
   },
   "file_extension": ".py",
   "mimetype": "text/x-python",
   "name": "python",
   "nbconvert_exporter": "python",
   "pygments_lexer": "ipython3",
   "version": "3.11.1"
  },
  "orig_nbformat": 4,
  "vscode": {
   "interpreter": {
    "hash": "e493d8904a4230f04b238e14e08d8e369697bad8b7d84da0cdfbed68911bac26"
   }
  }
 },
 "nbformat": 4,
 "nbformat_minor": 2
}
