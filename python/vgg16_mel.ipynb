{
 "cells": [
  {
   "cell_type": "code",
   "execution_count": 7,
   "metadata": {},
   "outputs": [
    {
     "name": "stdout",
     "output_type": "stream",
     "text": [
      "Number of images loaded:  1390\n"
     ]
    }
   ],
   "source": [
    "import os\n",
    "import numpy as np\n",
    "from sklearn.model_selection import train_test_split\n",
    "import matplotlib.pyplot as plt\n",
    "import cv2\n",
    "\n",
    "# Define the path to the directory containing the Mel spectrogram images\n",
    "data_dir = 'F:\\\\FYP\\\\Dataset\\\\baum1s\\\\Mel_Spectrograms'\n",
    "\n",
    "# Define the emotion labels\n",
    "emo_dict = {\"happiness\": 0, \"anger\": 1, \"sadness\": 2, \"disgust\": 3, \"fear\": 4, \"interest\": 5, \"unsure\": 6}\n",
    "\n",
    "# Initialize empty lists for the images and labels\n",
    "X = []\n",
    "y = []\n",
    "\n",
    "# Loop through each emotion label and load the corresponding images\n",
    "for emo_label in emo_dict.keys():\n",
    "    emo_dir = os.path.join(data_dir, emo_label)\n",
    "    for img_file in os.listdir(emo_dir):\n",
    "        img_path = os.path.join(emo_dir, img_file)\n",
    "        img = plt.imread(img_path)\n",
    "        #img = cv2.resize(img, (256,256))\n",
    "        img = cv2.cvtColor(img, cv2.COLOR_BGR2RGB) \n",
    "        X.append(img)\n",
    "        y.append(emo_dict[emo_label])\n",
    "\n",
    "print(\"Number of images loaded: \", len(X))\n"
   ]
  },
  {
   "cell_type": "code",
   "execution_count": 8,
   "metadata": {},
   "outputs": [],
   "source": [
    "# Convert the lists to numpy arrays\n",
    "X = np.array(X)\n",
    "y = np.array(y)\n"
   ]
  },
  {
   "cell_type": "code",
   "execution_count": 9,
   "metadata": {},
   "outputs": [
    {
     "name": "stdout",
     "output_type": "stream",
     "text": [
      "Shape of X:  (1390, 448, 448, 3)\n",
      "Shape of y:  (1390,)\n"
     ]
    }
   ],
   "source": [
    "print(\"Shape of X: \", X.shape)\n",
    "print(\"Shape of y: \", y.shape)"
   ]
  },
  {
   "cell_type": "code",
   "execution_count": 10,
   "metadata": {},
   "outputs": [
    {
     "name": "stdout",
     "output_type": "stream",
     "text": [
      "Training set: (889, 448, 448, 3) (889,)\n",
      "Validation set: (223, 448, 448, 3) (223,)\n",
      "Testing set: (278, 448, 448, 3) (278,)\n"
     ]
    }
   ],
   "source": [
    "# Split the dataset into training, validation, and testing sets\n",
    "X_train, X_test, y_train, y_test = train_test_split(X, y, test_size=0.2, random_state=42)\n",
    "X_train, X_val, y_train, y_val = train_test_split(X_train, y_train, test_size=0.2, random_state=42)\n",
    "\n",
    "# Print the shape of each set\n",
    "print(\"Training set:\", X_train.shape, y_train.shape)\n",
    "print(\"Validation set:\", X_val.shape, y_val.shape)\n",
    "print(\"Testing set:\", X_test.shape, y_test.shape)"
   ]
  },
  {
   "cell_type": "code",
   "execution_count": 11,
   "metadata": {},
   "outputs": [
    {
     "name": "stdout",
     "output_type": "stream",
     "text": [
      "Epoch 1/10\n",
      "28/28 [==============================] - 909s 32s/step - loss: 4.5916 - accuracy: 0.2047 - val_loss: 1.8595 - val_accuracy: 0.2197\n",
      "Epoch 2/10\n",
      "28/28 [==============================] - 952s 34s/step - loss: 1.9018 - accuracy: 0.2486 - val_loss: 1.8404 - val_accuracy: 0.2242\n",
      "Epoch 3/10\n",
      "28/28 [==============================] - 941s 34s/step - loss: 1.8830 - accuracy: 0.2553 - val_loss: 1.8210 - val_accuracy: 0.2601\n",
      "Epoch 4/10\n",
      "28/28 [==============================] - 910s 33s/step - loss: 1.9052 - accuracy: 0.2373 - val_loss: 1.8154 - val_accuracy: 0.3004\n",
      "Epoch 5/10\n",
      "28/28 [==============================] - 896s 32s/step - loss: 1.8647 - accuracy: 0.2306 - val_loss: 1.8145 - val_accuracy: 0.3184\n",
      "Epoch 6/10\n",
      "28/28 [==============================] - 903s 32s/step - loss: 1.8435 - accuracy: 0.2520 - val_loss: 1.8102 - val_accuracy: 0.3498\n",
      "Epoch 7/10\n",
      "28/28 [==============================] - 916s 33s/step - loss: 1.8335 - accuracy: 0.2486 - val_loss: 1.8497 - val_accuracy: 0.3139\n",
      "Epoch 8/10\n",
      "28/28 [==============================] - 957s 34s/step - loss: 1.8441 - accuracy: 0.2520 - val_loss: 1.7376 - val_accuracy: 0.2601\n",
      "Epoch 9/10\n",
      "28/28 [==============================] - 919s 33s/step - loss: 1.8143 - accuracy: 0.2520 - val_loss: 1.7479 - val_accuracy: 0.3498\n",
      "Epoch 10/10\n",
      "28/28 [==============================] - 911s 33s/step - loss: 1.8109 - accuracy: 0.2553 - val_loss: 1.7296 - val_accuracy: 0.3274\n",
      "9/9 [==============================] - 225s 25s/step - loss: 1.7400 - accuracy: 0.2770\n",
      "Test accuracy: 0.27697840332984924\n"
     ]
    }
   ],
   "source": [
    "import tensorflow as tf\n",
    "from tensorflow import keras\n",
    "from tensorflow.keras import layers\n",
    "\n",
    "# Load the VGG16 model with pre-trained ImageNet weights, excluding the top layer\n",
    "base_model = tf.keras.applications.VGG16(input_shape=(448, 448, 3), include_top=False, weights=\"imagenet\")\n",
    "\n",
    "# Freeze the pre-trained layers\n",
    "for layer in base_model.layers:\n",
    "    layer.trainable = False\n",
    "\n",
    "# Add a custom top layer for emotion recognition\n",
    "inputs = keras.Input(shape=(448, 448, 3))\n",
    "x = base_model(inputs, training=False)\n",
    "x = layers.Flatten()(x)\n",
    "x = layers.Dense(128, activation=\"relu\")(x)\n",
    "x = layers.Dropout(0.5)(x)\n",
    "outputs = layers.Dense(7, activation=\"softmax\")(x)\n",
    "model = keras.Model(inputs, outputs)\n",
    "\n",
    "# Compile the model\n",
    "model.compile(optimizer=keras.optimizers.Adam(),\n",
    "              loss=keras.losses.SparseCategoricalCrossentropy(from_logits=False),\n",
    "              metrics=[\"accuracy\"])\n",
    "\n",
    "# Train the model\n",
    "history = model.fit(X_train, y_train, validation_data=(X_val, y_val), epochs=10, batch_size=32)\n",
    "\n",
    "# Evaluate the model on the testing set\n",
    "test_loss, test_acc = model.evaluate(X_test, y_test)\n",
    "print(\"Test accuracy:\", test_acc)"
   ]
  }
 ],
 "metadata": {
  "kernelspec": {
   "display_name": "Python 3",
   "language": "python",
   "name": "python3"
  },
  "language_info": {
   "codemirror_mode": {
    "name": "ipython",
    "version": 3
   },
   "file_extension": ".py",
   "mimetype": "text/x-python",
   "name": "python",
   "nbconvert_exporter": "python",
   "pygments_lexer": "ipython3",
   "version": "3.11.1"
  },
  "orig_nbformat": 4,
  "vscode": {
   "interpreter": {
    "hash": "e493d8904a4230f04b238e14e08d8e369697bad8b7d84da0cdfbed68911bac26"
   }
  }
 },
 "nbformat": 4,
 "nbformat_minor": 2
}
