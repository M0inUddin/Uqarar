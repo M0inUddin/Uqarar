{
 "cells": [
  {
   "cell_type": "code",
   "execution_count": null,
   "metadata": {},
   "outputs": [],
   "source": []
  }
 ],
 "metadata": {
  "kernelspec": {
   "display_name": "Python 3.10.7 64-bit",
   "language": "python",
   "name": "python3"
  },
  "language_info": {
   "name": "python",
   "version": "3.10.7"
  },
  "orig_nbformat": 4,
  "vscode": {
   "interpreter": {
    "hash": "877b9b56b9ac32ed84d6125ece5ae2d08ce35bd4ff02cdfe13ad4f8dd6c8a2c2"
   }
  }
 },
 "nbformat": 4,
 "nbformat_minor": 2
}
